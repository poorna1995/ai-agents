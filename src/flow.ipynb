{
 "cells": [
  {
   "cell_type": "code",
   "execution_count": 1,
   "metadata": {},
   "outputs": [],
   "source": [
    "import sys \n",
    "#sys.path.append(\"/Users/chandanadayapule/Desktop/git/duplocloud/ai-agent-rag/ai-agent/\")\n",
    "from translator import QueryTranslator\n",
    "from router import QueryRouter\n",
    "from retriever import QueryRetriever\n",
    "from generator import QueryGenerator \n",
    "from indexer import ChromaVectorStore\n",
    "from crawler import GitHubCrawler\n",
    "from indexer import DocumentIndexer"
   ]
  },
  {
   "cell_type": "code",
   "execution_count": 2,
   "metadata": {},
   "outputs": [],
   "source": [
    "import os \n",
    "from dotenv import load_dotenv, find_dotenv\n",
    "\n",
    "load_dotenv()\n",
    "OPENAI_API_KEY = os.getenv(\"OPENAI_API_KEY\")\n",
    "LANGCHAIN_TRACING_V2 = os.getenv(\"LANGCHAIN_TRACING_V2\")\n",
    "LANGCHAIN_ENDPOINT = os.getenv(\"LANGCHAIN_ENDPOINT\")\n",
    "LANGCHAIN_API_KEY = os.getenv(\"LANGCHAIN_API_KEY\")\n",
    "TAVILY_API_KEY = os.getenv(\"TAVILY_API_KEY\")\n",
    "COMPOSIO_API_KEY = os.getenv(\"COMPOSIO_API_KEY\")\n",
    "\n"
   ]
  },
  {
   "cell_type": "code",
   "execution_count": null,
   "metadata": {},
   "outputs": [],
   "source": [
    "OPENAI_API_KEY"
   ]
  },
  {
   "cell_type": "markdown",
   "metadata": {},
   "source": [
    "tools = composio_toolset.get_tools(apps=[App.GITHUB])\n"
   ]
  },
  {
   "cell_type": "code",
   "execution_count": 3,
   "metadata": {},
   "outputs": [
    {
     "name": "stderr",
     "output_type": "stream",
     "text": [
      "Created a chunk of size 1132, which is longer than the specified 1000\n"
     ]
    },
    {
     "name": "stdout",
     "output_type": "stream",
     "text": [
      "[Collection(name=duplocloud)]\n"
     ]
    }
   ],
   "source": [
    "github_crawler = GitHubCrawler()\n",
    "github_docs = github_crawler.invoke()\n",
    "vector_store = DocumentIndexer().invoke(docs=github_docs)"
   ]
  },
  {
   "cell_type": "code",
   "execution_count": 4,
   "metadata": {},
   "outputs": [
    {
     "name": "stdout",
     "output_type": "stream",
     "text": [
      "RouterDecision(is_vectordb=False, is_tool=True, tool_name='search_wikipedia', tool_args={'query': 'duplocloud'}, query='duplocloud?', vector_store=None)\n"
     ]
    },
    {
     "name": "stderr",
     "output_type": "stream",
     "text": [
      "/Users/chandanadayapule/Desktop/git/duplocloud/ai-agent-rag/ai-agent/src/retriever.py:43: LangChainDeprecationWarning: The method `BaseTool.__call__` was deprecated in langchain-core 0.1.47 and will be removed in 1.0. Use :meth:`~invoke` instead.\n",
      "  result = func(args)\n"
     ]
    }
   ],
   "source": [
    "query = \"duplocloud?\"\n",
    "vector_store = ChromaVectorStore().get_vectorstore()\n",
    "\n",
    "\n",
    "user_query        = QueryTranslator().invoke(query=query)\n",
    "r_decision        = QueryRouter(vector_store=vector_store).invoke(query=user_query)\n",
    "context           = QueryRetriever().invoke(router_decision=r_decision)\n",
    "user_output       = QueryGenerator().invoke(context=context)\n"
   ]
  },
  {
   "cell_type": "code",
   "execution_count": null,
   "metadata": {},
   "outputs": [],
   "source": []
  },
  {
   "cell_type": "code",
   "execution_count": null,
   "metadata": {},
   "outputs": [],
   "source": []
  },
  {
   "cell_type": "code",
   "execution_count": null,
   "metadata": {},
   "outputs": [],
   "source": [
    "r_decision"
   ]
  },
  {
   "cell_type": "code",
   "execution_count": null,
   "metadata": {},
   "outputs": [],
   "source": [
    "user_output"
   ]
  },
  {
   "cell_type": "code",
   "execution_count": null,
   "metadata": {},
   "outputs": [],
   "source": [
    "user_output"
   ]
  },
  {
   "cell_type": "code",
   "execution_count": null,
   "metadata": {},
   "outputs": [],
   "source": [
    "from translator import QueryTranslator\n",
    "from router import QueryRouter\n",
    "from retriever import QueryRetriever\n",
    "from generator import QueryGenerator \n",
    "from indexer import ChromaVectorStore\n",
    "from crawler import GitHubCrawler\n",
    "from indexer import DocumentIndexer\n",
    "\n",
    "\n",
    "github_crawler = GitHubCrawler()\n",
    "github_docs = github_crawler.invoke()\n",
    "vector_store = DocumentIndexer().invoke(docs=github_docs)\n",
    "\n",
    "\n",
    "query = \"What is google?\"\n",
    "vector_store = ChromaVectorStore().get_vectorstore()\n",
    "\n",
    "\n",
    "user_query        = QueryTranslator().invoke(query=query)\n",
    "r_decision        = QueryRouter(vector_store=vector_store).invoke(query=user_query)\n",
    "context           = QueryRetriever().invoke(router_decision=r_decision)\n",
    "user_output       = QueryGenerator().invoke(context=context)\n",
    "user_output.content"
   ]
  },
  {
   "cell_type": "code",
   "execution_count": 1,
   "metadata": {},
   "outputs": [],
   "source": [
    "]"
   ]
  },
  {
   "cell_type": "code",
   "execution_count": 2,
   "metadata": {},
   "outputs": [
    {
     "ename": "TypeError",
     "evalue": "Counter.__init__() missing 1 required positional argument: 'n'",
     "output_type": "error",
     "traceback": [
      "\u001b[0;31m---------------------------------------------------------------------------\u001b[0m",
      "\u001b[0;31mTypeError\u001b[0m                                 Traceback (most recent call last)",
      "Cell \u001b[0;32mIn[2], line 1\u001b[0m\n\u001b[0;32m----> 1\u001b[0m \u001b[43mCounter\u001b[49m\u001b[43m(\u001b[49m\u001b[43m)\u001b[49m\n",
      "\u001b[0;31mTypeError\u001b[0m: Counter.__init__() missing 1 required positional argument: 'n'"
     ]
    }
   ],
   "source": [
    "Counter()"
   ]
  },
  {
   "cell_type": "code",
   "execution_count": null,
   "metadata": {},
   "outputs": [],
   "source": []
  },
  {
   "cell_type": "code",
   "execution_count": null,
   "metadata": {},
   "outputs": [],
   "source": []
  },
  {
   "cell_type": "code",
   "execution_count": null,
   "metadata": {},
   "outputs": [],
   "source": []
  }
 ],
 "metadata": {
  "kernelspec": {
   "display_name": ".venv",
   "language": "python",
   "name": "python3"
  },
  "language_info": {
   "codemirror_mode": {
    "name": "ipython",
    "version": 3
   },
   "file_extension": ".py",
   "mimetype": "text/x-python",
   "name": "python",
   "nbconvert_exporter": "python",
   "pygments_lexer": "ipython3",
   "version": "3.12.3"
  }
 },
 "nbformat": 4,
 "nbformat_minor": 2
}
